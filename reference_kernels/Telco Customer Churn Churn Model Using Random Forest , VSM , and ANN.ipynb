{
 "cells": [
  {
   "cell_type": "markdown",
   "metadata": {
    "_uuid": "debfd2327cca8448fa445b8b8714b7855aa65fdc"
   },
   "source": [
    "# Objectives\n\nI am trying to build a churn model using three ML algorithms (Random Forest, SVM , and ANN). I am building as initial trial all models with default parameters without any tuning or Cross Validation. Will Check which is the best model for next steps of tuning\n"
   ]
  },
  {
   "cell_type": "code",
   "execution_count": null,
   "metadata": {
    "_cell_guid": "b1076dfc-b9ad-4769-8c92-a6c4dae69d19",
    "_uuid": "8f2839f25d086af736a60e9eeb907d3b93b6e0e5",
    "trusted": true,
    "collapsed": true
   },
   "outputs": [],
   "source": [
    "# This Python 3 environment comes with many helpful analytics libraries installed\n",
    "# It is defined by the kaggle/python docker image: https://github.com/kaggle/docker-python\n",
    "# For example, here's several helpful packages to load in \n",
    "\n",
    "import numpy as np # linear algebra\n",
    "import pandas as pd # data processing, CSV file I/O (e.g. pd.read_csv)\n",
    "import matplotlib.pyplot as plt\n",
    "import seaborn as sns\n",
    "from sklearn.preprocessing import LabelEncoder\n",
    "from sklearn.cross_validation import train_test_split\n",
    "from sklearn.preprocessing import StandardScaler\n",
    "from sklearn.ensemble import RandomForestClassifier\n",
    "from sklearn.metrics import confusion_matrix , classification_report\n",
    "from sklearn.metrics import roc_curve , auc\n",
    "from sklearn.svm import SVC\n",
    "from keras.models import Sequential\n",
    "from keras.layers import Dense\n",
    "\n",
    "# Input data files are available in the \"../input/\" directory.\n",
    "# For example, running this (by clicking run or pressing Shift+Enter) will list the files in the input directory\n",
    "\n",
    "#import os\n",
    "#print(os.listdir(\"../input\"))\n",
    "\n",
    "# Any results you write to the current directory are saved as output."
   ]
  },
  {
   "cell_type": "code",
   "execution_count": null,
   "metadata": {
    "_cell_guid": "79c7e3d0-c299-4dcb-8224-4455121ee9b0",
    "_uuid": "d629ff2d2480ee46fbb7e2d37f6b5fab8052498a",
    "trusted": true,
    "collapsed": true
   },
   "outputs": [],
   "source": [
    "# Load Data\n",
    "df = pd.read_csv('../input/WA_Fn-UseC_-Telco-Customer-Churn.csv')"
   ]
  },
  {
   "cell_type": "code",
   "execution_count": null,
   "metadata": {
    "_uuid": "8c15f9b79f17d975f5c79823d175e0874f9bd139",
    "trusted": false,
    "collapsed": true
   },
   "outputs": [],
   "source": [
    "df.head()"
   ]
  },
  {
   "cell_type": "code",
   "execution_count": null,
   "metadata": {
    "_uuid": "ef5ab12f3f91d915bff8a2a04b196f246f912f0d",
    "trusted": false,
    "collapsed": true
   },
   "outputs": [],
   "source": [
    "df.info()"
   ]
  },
  {
   "cell_type": "markdown",
   "metadata": {
    "_uuid": "86c9498f01352da67fb68684d9e3c68338594e87"
   },
   "source": [
    "We observe SeniorCitizen Should be categorical variables, but comes as int64. Will convert it back to categorical"
   ]
  },
  {
   "cell_type": "code",
   "execution_count": null,
   "metadata": {
    "_uuid": "d72c4983cc4dd5e6b0b13a55a059f2837cd3a4fe",
    "trusted": false,
    "collapsed": true
   },
   "outputs": [],
   "source": [
    "df.SeniorCitizen.unique()"
   ]
  },
  {
   "cell_type": "code",
   "execution_count": null,
   "metadata": {
    "_uuid": "fade30e82d92af0132bb240787e74e9b8cf0a237",
    "trusted": false,
    "collapsed": true
   },
   "outputs": [],
   "source": [
    "#Convert to Categorical variable\n",
    "df.SeniorCitizen= df.SeniorCitizen.apply(lambda x : 'No' if x == 0 else 'Yes')\n"
   ]
  },
  {
   "cell_type": "code",
   "execution_count": null,
   "metadata": {
    "_uuid": "6a93ea9fc93dc6d5edbd552306138d377f81f685",
    "trusted": false,
    "collapsed": true
   },
   "outputs": [],
   "source": [
    "#Check Type after conversion\n",
    "df.SeniorCitizen.unique()"
   ]
  },
  {
   "cell_type": "markdown",
   "metadata": {
    "_uuid": "967dbd9dfe1a658bc158b3bc323a01e5a9c29cf3"
   },
   "source": [
    "Another Observation that TotalCharges is continues variables and comes as object. Will convert to numeric format"
   ]
  },
  {
   "cell_type": "code",
   "execution_count": null,
   "metadata": {
    "_uuid": "93711c68e4def568fb16fd51959afb4e5f166fcc",
    "trusted": false,
    "collapsed": true
   },
   "outputs": [],
   "source": [
    "df['TotalCharges_new']= pd.to_numeric(df.TotalCharges,errors='coerce_numeric')"
   ]
  },
  {
   "cell_type": "code",
   "execution_count": null,
   "metadata": {
    "_uuid": "3b417b48c2deb7b578d6bbef5d27d012f7180827",
    "trusted": false,
    "collapsed": true
   },
   "outputs": [],
   "source": [
    "#Check NULL values after the conversion\n",
    "df.loc[pd.isna(df.TotalCharges_new),'TotalCharges']"
   ]
  },
  {
   "cell_type": "code",
   "execution_count": null,
   "metadata": {
    "_uuid": "c5e8bdbafe345129e6c019baabed0e7fff910c67",
    "trusted": false,
    "collapsed": true
   },
   "outputs": [],
   "source": [
    "#Fill 11 Missing values from the original column\n",
    "TotalCharges_Missing=[488,753,936,1082,1340,3331,3826,4380,5218,6670,6754]\n",
    "df.loc[pd.isnull(df.TotalCharges_new),'TotalCharges_new']=TotalCharges_Missing\n"
   ]
  },
  {
   "cell_type": "code",
   "execution_count": null,
   "metadata": {
    "_uuid": "ea492dfefd685b2faa9141069d995f194dc49e53",
    "trusted": false,
    "collapsed": true
   },
   "outputs": [],
   "source": [
    "#We are good to replace old columns with the new numerical column\n",
    "df.TotalCharges=df.TotalCharges_new\n",
    "df.drop(['customerID','TotalCharges_new'],axis=1,inplace=True)\n",
    "df.info()"
   ]
  },
  {
   "cell_type": "markdown",
   "metadata": {
    "_uuid": "e601a2f57ff07d75633852ec5f21b0c0568ee7e8"
   },
   "source": [
    "Now will check all categorical variables levels"
   ]
  },
  {
   "cell_type": "code",
   "execution_count": null,
   "metadata": {
    "_uuid": "d5b98a7befbde8ac5134be639b55f4281776ab8f",
    "trusted": false,
    "collapsed": true
   },
   "outputs": [],
   "source": [
    "df.dtypes=='object'\n",
    "categorical_var=[i for i in df.columns if df[i].dtypes=='object']\n",
    "for z in categorical_var:\n",
    "    print(df[z].name,':',df[z].unique())"
   ]
  },
  {
   "cell_type": "markdown",
   "metadata": {
    "_uuid": "493fe062d1f1e5c39a97a31c952b47e676cada5e"
   },
   "source": [
    "There are some variables has value 'No Internet Service' that equivalent to 'No'. Will merge both values"
   ]
  },
  {
   "cell_type": "code",
   "execution_count": null,
   "metadata": {
    "_uuid": "2f8f818d8383015cae7f3e33dd8e8a5c41da8f5d",
    "trusted": false,
    "collapsed": true
   },
   "outputs": [],
   "source": [
    "Dual_features= ['OnlineSecurity','OnlineBackup','DeviceProtection','TechSupport','StreamingTV','StreamingMovies']\n",
    "for i in Dual_features:\n",
    "    df[i]=df[i].apply(lambda x: 'No' if x=='No internet service' else x)\n",
    "#Remove No Phones Service that equivilent to No for MultipleLines\n",
    "df.MultipleLines=df.MultipleLines.apply(lambda x: 'No' if x=='No phone service' else x)\n"
   ]
  },
  {
   "cell_type": "code",
   "execution_count": null,
   "metadata": {
    "_uuid": "2a5335de764ec91e633424bb77454dad1b619c81",
    "trusted": false,
    "collapsed": true
   },
   "outputs": [],
   "source": [
    "#Check levels or all Categorical Variables\n",
    "for z in [i for i in df.columns if df[i].dtypes=='object']:\n",
    "    print(df[z].name,':',df[z].unique())"
   ]
  },
  {
   "cell_type": "markdown",
   "metadata": {
    "_uuid": "4f0f515eb0b77f5bad3db6026944b3937e71ab1f"
   },
   "source": [
    "# Data Analysis and Visualizations\n\nFirst will analyze continues variables against Churn variable"
   ]
  },
  {
   "cell_type": "code",
   "execution_count": null,
   "metadata": {
    "_uuid": "a71061aab54852a93fc6a9168bcade8267ca6d89",
    "trusted": false,
    "collapsed": true
   },
   "outputs": [],
   "source": [
    "continues_var=[i for i in df.columns if df[i].dtypes !='object']\n",
    "fig , ax = plt.subplots(1,3,figsize=(15,5))\n",
    "for i , x in enumerate(continues_var):\n",
    "    ax[i].hist(df[x][df.Churn=='No'],label='Churn=0',bins=30)\n",
    "    ax[i].hist(df[x][df.Churn=='Yes'],label='Churn=1',bins=30)\n",
    "    ax[i].set(xlabel=x,ylabel='count')\n",
    "    ax[i].legend()"
   ]
  },
  {
   "cell_type": "markdown",
   "metadata": {
    "_uuid": "a0285e22c4ed8ec950ab823d1c440af808186809"
   },
   "source": [
    "We can see a real impact of all continues variables on Churn specially Tenue(Loyal Customers Stay)\n\nWill Check now Box Plot for more explorations"
   ]
  },
  {
   "cell_type": "code",
   "execution_count": null,
   "metadata": {
    "_uuid": "13db6010f66c8fd8938835dc37558b06b776dd2f",
    "trusted": false,
    "collapsed": true
   },
   "outputs": [],
   "source": [
    "fig , ax = plt.subplots(1,3,figsize=(15,5))\n",
    "for i , xi in enumerate(continues_var):\n",
    "    sns.boxplot(x=df.Churn,y=df[xi],ax=ax[i],hue=df.gender)\n",
    "    ax[i].set(xlabel='Churn',ylabel=xi)\n",
    "    ax[i].legend()\n"
   ]
  },
  {
   "cell_type": "markdown",
   "metadata": {
    "_uuid": "188f2146aae1e540b54791e0ac17c5fac10c43d9"
   },
   "source": [
    "Now it is more clear the impact of Continues Variables on Churn , We can see minimal impact of Gender\n\nNow will convert to check regarding Categorical Variables"
   ]
  },
  {
   "cell_type": "code",
   "execution_count": null,
   "metadata": {
    "_uuid": "95a383d56e46daa5f3ea934c295bfcc4bf32f65e",
    "trusted": false,
    "collapsed": true
   },
   "outputs": [],
   "source": [
    "#Remove Churn Variable for Analysis\n",
    "categorical_var_NoChurn= categorical_var[:-1]"
   ]
  },
  {
   "cell_type": "code",
   "execution_count": null,
   "metadata": {
    "_uuid": "469f92232788b56441c337faf1ac536fbffd9fde",
    "trusted": false,
    "collapsed": true
   },
   "outputs": [],
   "source": [
    "#Count Plot all Categorical Variables with Hue Churn\n",
    "fig , ax = plt.subplots(4,4,figsize=(20,20))\n",
    "for axi , var in zip(ax.flat,categorical_var_NoChurn):\n",
    "    sns.countplot(x=df.Churn,hue=df[var],ax=axi)"
   ]
  },
  {
   "cell_type": "markdown",
   "metadata": {
    "_uuid": "d47c169086e609951fd665c6c5ba054675e0823b"
   },
   "source": [
    "- We cannot see a real Impact of gender\n- Seniors are less loyalty\n- Partners are more loyal\n- Dependents are more loyal\n- Customers does not have multiplelines are more loyal\n- Customer are not happy with Optical Fiber and Leaving with rate of other internet services\n- Customers with month-to-month contract are more willing to leave than people with contracts\n- Paperless customers are more willing to leave that paper billing\n- Customer pay using electronic check is more willing to leave\n\nI Can conclude that mostly customers are suffering from the services , and specially advances customers who are using paperless billing and electronic payment. Some variables has no real impact of Churn but as a first trial for the model i will include all variables, should remove variables in the tuning phase"
   ]
  },
  {
   "cell_type": "markdown",
   "metadata": {
    "_uuid": "33981b43f5801c9f9fd268d66df653d401949918"
   },
   "source": [
    "## Categorical Variables Encoding\n\nFor logistics variables(2 classes) will encode using Label Encoder , For Variables has more than 2 classes will use get_dummies function "
   ]
  },
  {
   "cell_type": "code",
   "execution_count": null,
   "metadata": {
    "_uuid": "ef262c272bd7458520cdcd3f1118e4e640aff137",
    "trusted": false,
    "collapsed": true
   },
   "outputs": [],
   "source": [
    "from sklearn.preprocessing import LabelEncoder\n",
    "label_encoder=LabelEncoder()\n",
    "for x in [i for i in df.columns if len(df[i].unique())==2]:\n",
    "    print(x, df[x].unique())\n",
    "    df[x]= label_encoder.fit_transform(df[x])"
   ]
  },
  {
   "cell_type": "code",
   "execution_count": null,
   "metadata": {
    "_uuid": "840b3bd026cca3a7adb5a661bafa4699dcec2caf",
    "trusted": false,
    "collapsed": true
   },
   "outputs": [],
   "source": [
    "#Check Variables after Encoding\n",
    "[[x, df[x].unique()] for x in [i for i in df.columns if len(df[i].unique())<10]]"
   ]
  },
  {
   "cell_type": "code",
   "execution_count": null,
   "metadata": {
    "_uuid": "aec582204548ea634c8d1b3da985299da3981706",
    "trusted": false,
    "collapsed": true
   },
   "outputs": [],
   "source": [
    "#Encode Variables with more than 2 Classes\n",
    "df= pd.get_dummies(df, columns= [i for i in df.columns if df[i].dtypes=='object'],drop_first=True)\n",
    "  "
   ]
  },
  {
   "cell_type": "code",
   "execution_count": null,
   "metadata": {
    "_uuid": "f46b6f28d733e41c907fc08a6c7657343fab3a30",
    "trusted": false,
    "collapsed": true
   },
   "outputs": [],
   "source": [
    "#Check Variables after Encoding\n",
    "[[x, df[x].unique()] for x in [i for i in df.columns if len(df[i].unique())<10]]"
   ]
  },
  {
   "cell_type": "markdown",
   "metadata": {
    "_uuid": "9c94ed56f4a4a6a0ff93e06dbe4d8923657c8635"
   },
   "source": [
    "Variables Looks good now and we are ready for data splitting and scaling\n\n# Data Scaling and Splitting"
   ]
  },
  {
   "cell_type": "code",
   "execution_count": null,
   "metadata": {
    "_uuid": "2875e8a30fb9a5c7a6e99fdabe2f4d976c72390e",
    "trusted": false,
    "collapsed": true
   },
   "outputs": [],
   "source": [
    "#Create Features DataFrame\n",
    "X=df.drop('Churn',axis=1)\n",
    "#Create Target Series\n",
    "y=df['Churn']\n",
    "#Split Data\n",
    "X_train, X_test, y_train, y_test = train_test_split(X, y, test_size = 0.25, random_state = 0)"
   ]
  },
  {
   "cell_type": "code",
   "execution_count": null,
   "metadata": {
    "_uuid": "14fa2ab0ee8ead01ec0ea0cedf71969fcc2a6237",
    "trusted": false,
    "collapsed": true
   },
   "outputs": [],
   "source": [
    "#Scale Data\n",
    "sc= StandardScaler()\n",
    "X_train = sc.fit_transform(X_train)\n",
    "X_train=pd.DataFrame(X_train,columns=X.columns)\n",
    "X_test=sc.transform(X_test)"
   ]
  },
  {
   "cell_type": "code",
   "execution_count": null,
   "metadata": {
    "_uuid": "1036a398d9601e38676c6ddaa10a431c6e4471a7",
    "trusted": false,
    "collapsed": true
   },
   "outputs": [],
   "source": [
    "#Check Data after Scaling\n",
    "X_train.head()"
   ]
  },
  {
   "cell_type": "markdown",
   "metadata": {
    "_uuid": "17348a019a3c1287c8c287afb2baf0ba48166c38"
   },
   "source": [
    "# Applying ML Models\n\n## Random Forest Model\n\nWill start by train Random forest model using default parameters and all variables and get initial results"
   ]
  },
  {
   "cell_type": "code",
   "execution_count": null,
   "metadata": {
    "_uuid": "77c7d90b80137562a596aff267b6a48e75f8324d",
    "trusted": false,
    "collapsed": true
   },
   "outputs": [],
   "source": [
    "#Apply RandomForest Algorethm\n",
    "random_classifier= RandomForestClassifier()\n",
    "random_classifier.fit(X_train,y_train)"
   ]
  },
  {
   "cell_type": "code",
   "execution_count": null,
   "metadata": {
    "_uuid": "bfbe8428bc9ea081532e2ada58afa17f777ce277",
    "trusted": false,
    "collapsed": true
   },
   "outputs": [],
   "source": [
    "y_pred= random_classifier.predict(X_test)"
   ]
  },
  {
   "cell_type": "code",
   "execution_count": null,
   "metadata": {
    "_uuid": "c8a40645d32c9a6b430deb90781b77e9de30489a",
    "trusted": false,
    "collapsed": true
   },
   "outputs": [],
   "source": [
    "#Classification Report\n",
    "print(classification_report(y_test,y_pred))"
   ]
  },
  {
   "cell_type": "code",
   "execution_count": null,
   "metadata": {
    "trusted": false,
    "collapsed": true,
    "_uuid": "8448f1a4ca1e65c2da5d577b81182b4f818bc85f"
   },
   "outputs": [],
   "source": [
    "#Confusion Matrix\n",
    "mat = confusion_matrix(y_test, y_pred)\n",
    "sns.heatmap(mat.T, square=True, annot=True, fmt='d', cbar=False,\n",
    "          xticklabels=['No','Yes'],\n",
    "          yticklabels=['No','Yes'] )\n",
    "plt.xlabel('true label')\n",
    "plt.ylabel('predicted label')"
   ]
  },
  {
   "cell_type": "markdown",
   "metadata": {
    "_uuid": "d43f4b16d1ea3529833966dc2b57ee2fbe6a7ebf"
   },
   "source": [
    "Result are not bad as a start. Recall, and Precision of Churn='Yes' is not that good. We need to check features importance for the next tuning"
   ]
  },
  {
   "cell_type": "code",
   "execution_count": null,
   "metadata": {
    "_uuid": "83e207a6822f7c74afb9d5273db81e9dbc9a3119",
    "trusted": false,
    "collapsed": true
   },
   "outputs": [],
   "source": [
    "#get features Importances\n",
    "xx= pd.Series(random_classifier.feature_importances_,index=X.columns)\n",
    "xx.sort_values(ascending=False)"
   ]
  },
  {
   "cell_type": "markdown",
   "metadata": {
    "_uuid": "df6631452b0172a7d91c35c28bb19442c2f94daa"
   },
   "source": [
    "We need to use this list in next tuning of the model\n\nFinally will draw ROC curve for the model"
   ]
  },
  {
   "cell_type": "code",
   "execution_count": null,
   "metadata": {
    "_uuid": "e5a4f697995b803fc62d056851f74869ae6a0110",
    "trusted": false,
    "collapsed": true
   },
   "outputs": [],
   "source": [
    "y_pred_proba=random_classifier.predict_proba(X_test)[:,1]"
   ]
  },
  {
   "cell_type": "code",
   "execution_count": null,
   "metadata": {
    "_uuid": "57584f5715ab63e180821919847afe68885531c7",
    "trusted": false,
    "collapsed": true
   },
   "outputs": [],
   "source": [
    "fpr, tpr, _ = roc_curve(y_test, y_pred_proba)\n",
    "roc_auc=auc(fpr,tpr)\n",
    "#Now Draw ROC using fpr , tpr\n",
    "plt.plot([0, 1], [0, 1], 'k--',label='Random')\n",
    "plt.plot(fpr,tpr,label='ROC curve (area = %0.2f)' %roc_auc)\n",
    "plt.xlabel('False positive rate')\n",
    "plt.ylabel('True positive rate')\n",
    "plt.title('Random Forest ROC curve')\n",
    "plt.legend(loc='best')\n"
   ]
  },
  {
   "cell_type": "markdown",
   "metadata": {
    "_uuid": "908afee20e10d0a70ee4ebb59fea15b69fe0b643"
   },
   "source": [
    "## SVM Model\n\nNow will run SVM model and compare"
   ]
  },
  {
   "cell_type": "code",
   "execution_count": null,
   "metadata": {
    "_uuid": "a13a8639e3f3213dd5604ca85737d385258326b5",
    "trusted": false,
    "collapsed": true
   },
   "outputs": [],
   "source": [
    "svm_classifier= SVC(probability=True)\n",
    "svm_classifier.fit(X_train,y_train)"
   ]
  },
  {
   "cell_type": "code",
   "execution_count": null,
   "metadata": {
    "_uuid": "f3b838e846fe077a07e2c220513cee5fa6bae9ff",
    "trusted": false,
    "collapsed": true
   },
   "outputs": [],
   "source": [
    "#Predict\n",
    "y_pred_svm= svm_classifier.predict(X_test)\n",
    "#Classification Report\n",
    "print(classification_report(y_test,y_pred_svm))"
   ]
  },
  {
   "cell_type": "code",
   "execution_count": null,
   "metadata": {
    "_uuid": "9f9cc511d7cb2824c095bdef131e541f9c21dac9",
    "trusted": false,
    "collapsed": true
   },
   "outputs": [],
   "source": [
    "#Confusion Matrix\n",
    "mat_svm = confusion_matrix(y_test, y_pred_svm)\n",
    "sns.heatmap(mat_svm.T, square=True, annot=True, fmt='d', cbar=False,\n",
    "          xticklabels=['No','Yes'],\n",
    "          yticklabels=['No','Yes'] )\n",
    "plt.xlabel('true label')\n",
    "plt.ylabel('predicted label')"
   ]
  },
  {
   "cell_type": "markdown",
   "metadata": {
    "_uuid": "47ab75a762b15b56fc5e646bd5099c3e893f5712",
    "collapsed": true
   },
   "source": [
    "SVM results is a little better than Random Forest. But not a huge improvement\n\nFinally will draw ROC Curve for this model\n"
   ]
  },
  {
   "cell_type": "code",
   "execution_count": null,
   "metadata": {
    "_uuid": "23a0e82d7cf891dd5d48a19b5c1d5d65d3e30652",
    "trusted": false,
    "collapsed": true
   },
   "outputs": [],
   "source": [
    "y_pred_svm_proba=svm_classifier.predict_proba(X_test)[:,1]\n",
    "#ROC Curve\n",
    "fpr_svm, tpr_svm, _svm = roc_curve(y_test, y_pred_svm_proba)\n",
    "roc_auc=auc(fpr_svm,tpr_svm)\n",
    "#Now Draw ROC using fpr , tpr\n",
    "plt.plot([0, 1], [0, 1], 'k--',label='Random')\n",
    "plt.plot(fpr,tpr,label='ROC curve (area = %0.2f)' %roc_auc)\n",
    "plt.xlabel('False positive rate')\n",
    "plt.ylabel('True positive rate')\n",
    "plt.title('SVM ROC curve')\n",
    "plt.legend(loc='best')\n"
   ]
  },
  {
   "cell_type": "markdown",
   "metadata": {
    "_uuid": "8c7fcf3ad4cf92d776210926def4e9fb2ae322e1"
   },
   "source": [
    "## ANN Model\n\nLastly, will build Artificial Neural Network (ANN) Model which theoretically should bring best result.\nWill build 2 Hidden Layers with 12 Nodes , Using Variate Function , and Output layer with one Node using Sigmoid Function. Will not run Cross Validation as a first run and will use Adam as optimizer with 100 epochs\n"
   ]
  },
  {
   "cell_type": "code",
   "execution_count": null,
   "metadata": {
    "_uuid": "0bae158fff38b69c5e0002c2163a68fc91064c09",
    "trusted": false,
    "collapsed": true
   },
   "outputs": [],
   "source": [
    "#Initiate ANN Classifier\n",
    "ann_classifier= Sequential()\n",
    "X.shape"
   ]
  },
  {
   "cell_type": "code",
   "execution_count": null,
   "metadata": {
    "_uuid": "cfa6a35929b5ec3bffe9e3ba0a9a13725f7b0148",
    "trusted": false,
    "collapsed": true
   },
   "outputs": [],
   "source": [
    "#Adding Hidden Layer1\n",
    "ann_classifier.add(Dense(12,activation='relu',kernel_initializer='uniform',input_dim=23))\n",
    "#Adding Hidden Layer2\n",
    "ann_classifier.add(Dense(12,activation='relu',kernel_initializer='uniform'))\n",
    "#Adding output Layer\n",
    "ann_classifier.add(Dense(1,activation='sigmoid',kernel_initializer='uniform'))\n",
    "#Compile them Model\n",
    "ann_classifier.compile(optimizer='adam',loss='binary_crossentropy', metrics = ['accuracy'])"
   ]
  },
  {
   "cell_type": "code",
   "execution_count": null,
   "metadata": {
    "_uuid": "a4cfbcab220a034f6f1c1fd130430b7643d82d53",
    "trusted": false,
    "collapsed": true
   },
   "outputs": [],
   "source": [
    "ann_classifier.summary()"
   ]
  },
  {
   "cell_type": "code",
   "execution_count": null,
   "metadata": {
    "_uuid": "2e2bcdeb0dfc6c965b0a299117549a9e15fe0e21",
    "trusted": false,
    "collapsed": true
   },
   "outputs": [],
   "source": [
    "%time ann_classifier.fit(X_train,y_train,batch_size=10,epochs=100)"
   ]
  },
  {
   "cell_type": "code",
   "execution_count": null,
   "metadata": {
    "_uuid": "51ac318d1d178557ffff5aac6252c6859e0f5129",
    "trusted": false,
    "collapsed": true
   },
   "outputs": [],
   "source": [
    "#Get Prediction Proba\n",
    "y_pred_ann_proba= ann_classifier.predict(X_test)"
   ]
  },
  {
   "cell_type": "code",
   "execution_count": null,
   "metadata": {
    "_uuid": "f974ba364686e98874fd660ced989c637e9dd1e5",
    "trusted": false,
    "collapsed": true
   },
   "outputs": [],
   "source": [
    "#Convert Prediction to Int\n",
    "y_pred_ann= (y_pred_ann_proba>.5).astype('int')"
   ]
  },
  {
   "cell_type": "code",
   "execution_count": null,
   "metadata": {
    "_uuid": "51b0fd736d114e2b56f7e7248adfce0779cb0302",
    "trusted": false,
    "collapsed": true
   },
   "outputs": [],
   "source": [
    "#Priint Classification Report\n",
    "print(classification_report(y_test,y_pred_ann))"
   ]
  },
  {
   "cell_type": "code",
   "execution_count": null,
   "metadata": {
    "_uuid": "07570019527b1e72699052c53650cd054ecc868b",
    "trusted": false,
    "collapsed": true
   },
   "outputs": [],
   "source": [
    "#Confusion Matrix\n",
    "mat_ann = confusion_matrix(y_test, y_pred_ann)\n",
    "sns.heatmap(mat_ann.T, square=True, annot=True, fmt='d', cbar=False,\n",
    "          xticklabels=['No','Yes'],\n",
    "          yticklabels=['No','Yes'] )\n",
    "plt.xlabel('true label')\n",
    "plt.ylabel('predicted label')"
   ]
  },
  {
   "cell_type": "code",
   "execution_count": null,
   "metadata": {
    "_uuid": "dfe6d83a0b39c9c5fb071a2e8f78219c8f9d1daa",
    "trusted": false,
    "collapsed": true
   },
   "outputs": [],
   "source": [
    "#Roc Curve\n",
    "fpr_ann,tpr_ann,_ann=roc_curve(y_test,y_pred_ann_proba)\n",
    "roc_auc=auc(fpr_ann,tpr_ann)\n",
    "#Now Draw ROC using fpr , tpr\n",
    "plt.plot([0, 1], [0, 1], 'k--',label='Random')\n",
    "plt.plot(fpr,tpr,label='ROC curve (area = %0.2f)' %roc_auc)\n",
    "plt.xlabel('False positive rate')\n",
    "plt.ylabel('True positive rate')\n",
    "plt.title('ROC curve')\n",
    "plt.legend(loc='best')"
   ]
  },
  {
   "cell_type": "markdown",
   "metadata": {
    "_uuid": "428e0f475f37ba552c24c7363c667f69396d5194",
    "collapsed": true
   },
   "source": [
    "We can see a big improvement with ANN comparing with other models.\n\n## Next Step\n\nI will review deeply all variables, and start tune ANN models for better results\n\n\nI hope this Kernel is useful. Happy to receive your comments, questions, and advises\n\n"
   ]
  }
 ],
 "metadata": {
  "kernelspec": {
   "display_name": "Python 3",
   "language": "python",
   "name": "python3"
  },
  "language_info": {
   "name": "python",
   "version": "3.6.6",
   "mimetype": "text/x-python",
   "codemirror_mode": {
    "name": "ipython",
    "version": 3
   },
   "pygments_lexer": "ipython3",
   "nbconvert_exporter": "python",
   "file_extension": ".py"
  }
 },
 "nbformat": 4,
 "nbformat_minor": 1
}
