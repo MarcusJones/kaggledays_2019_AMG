{
  "cells": [
    {
      "metadata": {
        "_uuid": "8f2839f25d086af736a60e9eeb907d3b93b6e0e5",
        "_cell_guid": "b1076dfc-b9ad-4769-8c92-a6c4dae69d19",
        "trusted": true
      },
      "cell_type": "code",
      "source": "# This Python 3 environment comes with many helpful analytics libraries installed\n# It is defined by the kaggle/python docker image: https://github.com/kaggle/docker-python\n# For example, here's several helpful packages to load in \n\nimport numpy as np # linear algebra\nimport pandas as pd # data processing, CSV file I/O (e.g. pd.read_csv)\nimport matplotlib.pyplot as plt\nimport seaborn as sns\n%matplotlib inline\n# Input data files are available in the \"../input/\" directory.\n# For example, running this (by clicking run or pressing Shift+Enter) will list the files in the input directory\nimport warnings  \nwarnings.filterwarnings('ignore')\n\nimport os\nprint(os.listdir(\"../input\"))\n\n# Any results you write to the current directory are saved as output.",
      "execution_count": null,
      "outputs": []
    },
    {
      "metadata": {
        "_cell_guid": "79c7e3d0-c299-4dcb-8224-4455121ee9b0",
        "_uuid": "d629ff2d2480ee46fbb7e2d37f6b5fab8052498a",
        "trusted": true
      },
      "cell_type": "code",
      "source": "train = pd.read_csv(\"../input/train.csv\")\nsales = pd.read_csv(\"../input/sales.csv\")\nnavigation = pd.read_csv(\"../input/navigation.csv\")\nvimages = pd.read_csv(\"../input/vimages.csv\")",
      "execution_count": null,
      "outputs": []
    },
    {
      "metadata": {
        "trusted": true,
        "_uuid": "821b22453a1f931532e9fdef5d2ee444983e78c3"
      },
      "cell_type": "code",
      "source": "train.head()",
      "execution_count": null,
      "outputs": []
    },
    {
      "metadata": {
        "trusted": true,
        "_uuid": "b68814a28eea6cbe136bb0d2739342026812ca63"
      },
      "cell_type": "code",
      "source": "train.info()",
      "execution_count": null,
      "outputs": []
    },
    {
      "metadata": {
        "trusted": true,
        "_uuid": "e607ecd3e710007360a909b54f1b16a20b8db7a9"
      },
      "cell_type": "code",
      "source": "train.describe()",
      "execution_count": null,
      "outputs": []
    },
    {
      "metadata": {
        "trusted": true,
        "_uuid": "43ecdcae96bcb50c0e79f87f05a8a7c81a6459df"
      },
      "cell_type": "code",
      "source": "train.nunique()",
      "execution_count": null,
      "outputs": []
    },
    {
      "metadata": {
        "trusted": true,
        "_uuid": "297b5ad7ff535e9cec9937b648d4f970b2411d3a"
      },
      "cell_type": "code",
      "source": "train.isna().sum()",
      "execution_count": null,
      "outputs": []
    },
    {
      "metadata": {
        "_uuid": "b6e549a8a65a0850a7a42f27fb46709b0a5bc70e"
      },
      "cell_type": "markdown",
      "source": "# Target"
    },
    {
      "metadata": {
        "trusted": true,
        "_uuid": "209ceabaa4194bfb2168879f7f7ed09892f4a029"
      },
      "cell_type": "code",
      "source": "sns.distplot(train.target)",
      "execution_count": null,
      "outputs": []
    },
    {
      "metadata": {
        "trusted": true,
        "_uuid": "dfa6ac40b19b5ee3883702261a86a973e179b049"
      },
      "cell_type": "code",
      "source": "sns.boxplot(train.target, orient='v')",
      "execution_count": null,
      "outputs": []
    },
    {
      "metadata": {
        "trusted": true,
        "_uuid": "36b75bea2d2019bc4d44661b2d613870fee08d6c"
      },
      "cell_type": "code",
      "source": "plt.scatter(range(train.shape[0]), np.sort(train.target.values))\nplt.xlabel('index', fontsize=12)\nplt.ylabel('Quantity', fontsize=12)",
      "execution_count": null,
      "outputs": []
    },
    {
      "metadata": {
        "_uuid": "37038033b04fed29f96093461017b631f73b864b"
      },
      "cell_type": "markdown",
      "source": "# Other variables in the train dataset"
    },
    {
      "metadata": {
        "_uuid": "555ca375781733c35941a89adb8bbe98e7540da5"
      },
      "cell_type": "markdown",
      "source": "### product_type and product_gender"
    },
    {
      "metadata": {
        "trusted": true,
        "_uuid": "5cdac0c67c73253ca509751fe0b2d260c3f4ba81"
      },
      "cell_type": "code",
      "source": "f, axes = plt.subplots(2, 2, figsize=(15, 5))\n\nfor ii,i in enumerate(['product_type','product_gender']):\n    sns.countplot(train[i], ax =axes[ii][0])\n    sns.barplot(train[i], train.target, ax=axes[ii][1])",
      "execution_count": null,
      "outputs": []
    },
    {
      "metadata": {
        "_uuid": "e3cc5b1dbfc163ed15d463dcb83c2a93e7948a8c"
      },
      "cell_type": "markdown",
      "source": "### macro_function"
    },
    {
      "metadata": {
        "trusted": true,
        "_uuid": "8c7483733a547d4fe7bfcf8151b8f0c8f48af209"
      },
      "cell_type": "code",
      "source": "f, axes = plt.subplots(1,2, figsize=(20,10))\nsns.countplot(y=train.macro_function, orient='v', ax=axes[0])\nsns.barplot(y=train.macro_function, x=train.target, ax=axes[1])",
      "execution_count": null,
      "outputs": []
    },
    {
      "metadata": {
        "_uuid": "5048fabe74df2c4320bd66c950014950abd13f20"
      },
      "cell_type": "markdown",
      "source": "### function"
    },
    {
      "metadata": {
        "trusted": true,
        "_uuid": "0f9615f2d0369b62572441b817887ea75e124431"
      },
      "cell_type": "code",
      "source": "f, axes = plt.subplots(1,2, figsize=(20,10))\nsns.countplot(y=train.function, orient='v', ax=axes[0])\nsns.barplot(y=train.function, x=train.target, ax=axes[1])",
      "execution_count": null,
      "outputs": []
    },
    {
      "metadata": {
        "_uuid": "964c858706aea5f4c289c1d4de4427fe92e35057"
      },
      "cell_type": "markdown",
      "source": "### sub_function"
    },
    {
      "metadata": {
        "trusted": true,
        "_uuid": "a3ae1f4f07e691140f7a43a19a89c6c5133ff9cd"
      },
      "cell_type": "code",
      "source": "plt.figure(figsize=(15, 10))\nsns.countplot(y=train.sub_function, orient='h')\n",
      "execution_count": null,
      "outputs": []
    },
    {
      "metadata": {
        "_uuid": "77a582c215818157b9ab417c978cb38018fc75f4"
      },
      "cell_type": "markdown",
      "source": "### model"
    },
    {
      "metadata": {
        "trusted": true,
        "_uuid": "982360ab08a793529d3ae4d7c81ff2f7cf6bb636"
      },
      "cell_type": "code",
      "source": "train.model.value_counts(ascending=False).head(30)",
      "execution_count": null,
      "outputs": []
    },
    {
      "metadata": {
        "_uuid": "f27351fc435bb78a9c465eaa21051c7b79810d28"
      },
      "cell_type": "markdown",
      "source": "### aesthetic_sub_line"
    },
    {
      "metadata": {
        "trusted": true,
        "_uuid": "c6a0211e0783e9d9b755a488e1c3b47bfbf1ea07"
      },
      "cell_type": "code",
      "source": "f, axes = plt.subplots(1,2, figsize=(20,10))\nsns.countplot(y=train.aesthetic_sub_line, orient='v', ax=axes[0])\nsns.barplot(y=train.aesthetic_sub_line, x=train.target, ax=axes[1])",
      "execution_count": null,
      "outputs": []
    },
    {
      "metadata": {
        "_uuid": "3a2b812ab03d24f8d314641969df2435e48cc96b"
      },
      "cell_type": "markdown",
      "source": "### macro_material"
    },
    {
      "metadata": {
        "trusted": true,
        "_uuid": "8c141ed91767718f214a26209ad07598e20f0b63"
      },
      "cell_type": "code",
      "source": "f, axes = plt.subplots(1,2, figsize=(20,10))\nsns.countplot(y=train.macro_material, orient='v', ax=axes[0])\nsns.barplot(y=train.macro_material, x=train.target, ax=axes[1])",
      "execution_count": null,
      "outputs": []
    },
    {
      "metadata": {
        "_uuid": "3ede66eb52d0a6d29b208c876479f790310a4647"
      },
      "cell_type": "markdown",
      "source": "### color"
    },
    {
      "metadata": {
        "trusted": true,
        "_uuid": "de9192a1e6ce149318f2356ae0fb4b527a8592c7"
      },
      "cell_type": "code",
      "source": "train.color.value_counts(ascending=False).head(20)",
      "execution_count": null,
      "outputs": []
    },
    {
      "metadata": {
        "_uuid": "402a137d6dfbc1653353bb183970c888cca071cb"
      },
      "cell_type": "markdown",
      "source": "### fr_FR_price"
    },
    {
      "metadata": {
        "trusted": true,
        "_uuid": "6474de63da8c1fac5af4f6408a68fcdb9f95510c"
      },
      "cell_type": "code",
      "source": "plt.figure(figsize=(15, 10))\nsns.distplot(train.fr_FR_price)",
      "execution_count": null,
      "outputs": []
    },
    {
      "metadata": {
        "trusted": true,
        "_uuid": "88e91331d79513221a0904322e180b67feecd972"
      },
      "cell_type": "code",
      "source": "plt.figure(figsize=(15, 10))\nsns.scatterplot(train.fr_FR_price, train.target)",
      "execution_count": null,
      "outputs": []
    },
    {
      "metadata": {
        "trusted": true,
        "_uuid": "1bba8aaf4e328f809ce200ce2371e9a80d14db9e"
      },
      "cell_type": "code",
      "source": "plt.figure(figsize=(15,10))\nsns.violinplot(x=train.product_type, y=train.target, inner=\"points\")",
      "execution_count": null,
      "outputs": []
    },
    {
      "metadata": {
        "trusted": true,
        "_uuid": "ec55a28fa267def8a679a19c6120d2313b5ca105"
      },
      "cell_type": "code",
      "source": "plt.figure(figsize=(15,10))\nsns.violinplot(x=train.product_gender, y=train.target, inner=\"points\")",
      "execution_count": null,
      "outputs": []
    },
    {
      "metadata": {
        "trusted": true,
        "_uuid": "01630839fc431936c2c85ebfdcfeff9dd6e89cf3"
      },
      "cell_type": "code",
      "source": "plt.figure(figsize=(15,10))\nsns.violinplot(y=train.macro_function, x=train.target, inner=\"points\")",
      "execution_count": null,
      "outputs": []
    },
    {
      "metadata": {
        "_uuid": "1a896b871083e80e03ffa6209eca13f7208eb494"
      },
      "cell_type": "markdown",
      "source": "# Sales dataset"
    },
    {
      "metadata": {
        "trusted": true,
        "_uuid": "a8efdf511058652a875c1b974713fdd965637b92"
      },
      "cell_type": "code",
      "source": "sales.head()",
      "execution_count": null,
      "outputs": []
    },
    {
      "metadata": {
        "trusted": true,
        "_uuid": "8eb5d63bf2b525a3f11c94ef31e5ecbe35a3e022"
      },
      "cell_type": "code",
      "source": "sales.info()",
      "execution_count": null,
      "outputs": []
    },
    {
      "metadata": {
        "trusted": true,
        "_uuid": "75e56b9547ba8ad03fd250cfeb3eaedf159e3d0b"
      },
      "cell_type": "code",
      "source": "sales.nunique()",
      "execution_count": null,
      "outputs": []
    },
    {
      "metadata": {
        "trusted": true,
        "_uuid": "a6d1645e1907d538dc00caf5d1bafd91dda49180"
      },
      "cell_type": "code",
      "source": "sales.describe()",
      "execution_count": null,
      "outputs": []
    },
    {
      "metadata": {
        "trusted": true,
        "_uuid": "a368fb80f8433ec267102edc0654accae461222f"
      },
      "cell_type": "code",
      "source": "sales.isna().sum()",
      "execution_count": null,
      "outputs": []
    },
    {
      "metadata": {
        "_uuid": "cb8d555b561e42b8b5a5db3816d388a19a99bc78"
      },
      "cell_type": "markdown",
      "source": "### country_number"
    },
    {
      "metadata": {
        "trusted": true,
        "_uuid": "6571894d4c9c32c14f069d7a09db386e52ea67e6"
      },
      "cell_type": "code",
      "source": "sales.country_number.value_counts(ascending=False).head()",
      "execution_count": null,
      "outputs": []
    },
    {
      "metadata": {
        "trusted": true,
        "_uuid": "f3aa2a618ab465b8065d60be2c27457f0eeef791"
      },
      "cell_type": "code",
      "source": "sales.country_number.value_counts(ascending=False).head()",
      "execution_count": null,
      "outputs": []
    },
    {
      "metadata": {
        "_uuid": "353acdfad517fc046f9624c9e182913a812b45f5"
      },
      "cell_type": "markdown",
      "source": "### sales_quantity"
    },
    {
      "metadata": {
        "trusted": true,
        "_uuid": "19c8fd5ea14b43efedc9ebfc20acac386c868bb0"
      },
      "cell_type": "code",
      "source": "plt.figure(figsize=(15,5))\nsns.distplot(sales.sales_quantity)",
      "execution_count": null,
      "outputs": []
    },
    {
      "metadata": {
        "_uuid": "04c3772cea0c268de1d6858ebf1119f98430aa2f"
      },
      "cell_type": "markdown",
      "source": "### currency_rate_USD"
    },
    {
      "metadata": {
        "trusted": true,
        "_uuid": "8086f0fac2018adc2bb31c32dd1343633a667e53"
      },
      "cell_type": "code",
      "source": "f, axes = plt.subplots(1,2,figsize=(15,5))\nsns.distplot(sales.currency_rate_USD, ax=axes[0])\nsns.scatterplot(sales.currency_rate_USD, sales.sales_quantity, ax=axes[1]) ",
      "execution_count": null,
      "outputs": []
    },
    {
      "metadata": {
        "_uuid": "761038be62cb07695f7b8d57505b655c5ab35082"
      },
      "cell_type": "markdown",
      "source": "### currency_rate_GBP"
    },
    {
      "metadata": {
        "trusted": true,
        "_uuid": "881a15ae593683b4227313e0ae11f372ed2064f9"
      },
      "cell_type": "code",
      "source": "f, axes = plt.subplots(1,2,figsize=(15,5))\nsns.distplot(sales.currency_rate_GBP, ax=axes[0])\nsns.scatterplot(sales.currency_rate_GBP, sales.sales_quantity, ax=axes[1])",
      "execution_count": null,
      "outputs": []
    },
    {
      "metadata": {
        "_uuid": "3e5ef132583ed169b6acdceadde0396a7ce13e4a"
      },
      "cell_type": "markdown",
      "source": "### currency_rate_CNY"
    },
    {
      "metadata": {
        "trusted": true,
        "_uuid": "9fa07224dd0de163c5525d0217771c0662691c91"
      },
      "cell_type": "code",
      "source": "f, axes = plt.subplots(1,2,figsize=(15,5))\nsns.distplot(sales.currency_rate_CNY, ax=axes[0])\nsns.scatterplot(sales.currency_rate_CNY, sales.sales_quantity, ax=axes[1])",
      "execution_count": null,
      "outputs": []
    },
    {
      "metadata": {
        "_uuid": "f3d756d79d8ddf44743ab4b3106b3b24baba7b93"
      },
      "cell_type": "markdown",
      "source": "### currency_rate_JPY"
    },
    {
      "metadata": {
        "trusted": true,
        "_uuid": "2cf6b06cdea90c1105e67c1be49f1b848d320822"
      },
      "cell_type": "code",
      "source": "f, axes = plt.subplots(1,2,figsize=(15,5))\nsns.distplot(sales.currency_rate_JPY, ax=axes[0])\nsns.scatterplot(sales.currency_rate_JPY, sales.sales_quantity, ax=axes[1])",
      "execution_count": null,
      "outputs": []
    },
    {
      "metadata": {
        "_uuid": "f060966cd711161410243c8453bbe6946924d3fa"
      },
      "cell_type": "markdown",
      "source": "### currency_rate_KRW"
    },
    {
      "metadata": {
        "trusted": true,
        "_uuid": "7bd9f62ce5cafb1b5a2651a7af31e3c9525f40cb"
      },
      "cell_type": "code",
      "source": "f, axes = plt.subplots(1,2,figsize=(15,5))\nsns.distplot(sales.currency_rate_KRW, ax=axes[0])\nsns.scatterplot(sales.currency_rate_KRW, sales.sales_quantity, ax=axes[1])",
      "execution_count": null,
      "outputs": []
    },
    {
      "metadata": {
        "trusted": true,
        "_uuid": "6ee78307ef2ad9915955f547c49cfaf56734d487"
      },
      "cell_type": "code",
      "source": "var = ['TotalBuzzPost', 'TotalBuzz', 'NetSentiment',\n       'PositiveSentiment', 'NegativeSentiment', 'Impressions']\n\nf, axes = plt.subplots(3,2, figsize=(15,5))\n\nfor ii, i in enumerate(var):\n    axes = axes.flatten()\n    sns.distplot(sales[i], ax =axes[ii]).set(xlabel=i)",
      "execution_count": null,
      "outputs": []
    },
    {
      "metadata": {
        "trusted": true,
        "_uuid": "9865d1d8f1c5ba7566ae9c7ee9703bea307d215a"
      },
      "cell_type": "code",
      "source": "f, axes = plt.subplots(3,2, figsize=(15,5))\n\nfor ii, i in enumerate(var):\n    axes = axes.flatten()\n    sns.scatterplot(sales[i], sales.sales_quantity, ax =axes[ii]).set(xlabel=i)",
      "execution_count": null,
      "outputs": []
    },
    {
      "metadata": {
        "_uuid": "d5e32c572e5b4b346409feb7d0b82d0aa0a12fac"
      },
      "cell_type": "markdown",
      "source": "# Navigation dataset"
    },
    {
      "metadata": {
        "trusted": true,
        "_uuid": "370754487a740d426ed62332f51c50ea973f2d7e"
      },
      "cell_type": "code",
      "source": "navigation.head()",
      "execution_count": null,
      "outputs": []
    },
    {
      "metadata": {
        "trusted": true,
        "_uuid": "0fd4a9ff40238ef63cac72735169bcb784d18ad7"
      },
      "cell_type": "code",
      "source": "navigation.info()",
      "execution_count": null,
      "outputs": []
    },
    {
      "metadata": {
        "trusted": true,
        "_uuid": "aa0a71720445065db9ccdd367b41203fe1d0ac6f"
      },
      "cell_type": "code",
      "source": "navigation.isna().sum()",
      "execution_count": null,
      "outputs": []
    },
    {
      "metadata": {
        "trusted": true,
        "_uuid": "6151cbc1eb1f7a901fba23b39e737da97f834764"
      },
      "cell_type": "code",
      "source": "navigation.nunique()",
      "execution_count": null,
      "outputs": []
    },
    {
      "metadata": {
        "_uuid": "375c33dd88b530e01a0764b80421e070d4a4947b"
      },
      "cell_type": "markdown",
      "source": "### page_views"
    },
    {
      "metadata": {
        "trusted": true,
        "_uuid": "2e9e8cf309c51c173d7b1bae89d8dd6cc2dc02c0"
      },
      "cell_type": "code",
      "source": "plt.figure(figsize=(15,5))\nsns.distplot(navigation.page_views)",
      "execution_count": null,
      "outputs": []
    },
    {
      "metadata": {
        "trusted": true,
        "_uuid": "1e90bb1c3373ae0e57f5d4f45a3515f5354f9c9b"
      },
      "cell_type": "code",
      "source": "plt.figure(figsize=(15,5))\nsns.boxplot(navigation.page_views)",
      "execution_count": null,
      "outputs": []
    },
    {
      "metadata": {
        "_uuid": "c2a7ce05bbbd117cfe8d409bafeacf56ab7ac08c"
      },
      "cell_type": "markdown",
      "source": "### traffic_source and traffic_source vs page_views"
    },
    {
      "metadata": {
        "trusted": true,
        "_uuid": "e5db829e2047bca2565db7cd5e884916f425b264"
      },
      "cell_type": "code",
      "source": "f, axes = plt.subplots(1,2, figsize=(15,5))\nsns.countplot(navigation.traffic_source, ax=axes[0])\nsns.barplot(navigation.traffic_source, navigation.page_views, ax=axes[1])",
      "execution_count": null,
      "outputs": []
    },
    {
      "metadata": {
        "_uuid": "48c32554288d1f234143dd386880537569ae6f09"
      },
      "cell_type": "markdown",
      "source": "### addtocart"
    },
    {
      "metadata": {
        "trusted": true,
        "_uuid": "ca873d85774c8172fce03f10a9f1854b8266c640"
      },
      "cell_type": "code",
      "source": "navigation.addtocart.value_counts()",
      "execution_count": null,
      "outputs": []
    },
    {
      "metadata": {
        "_uuid": "1bf7bcf9619a91ded6d8d5e2f2a362435daad73e"
      },
      "cell_type": "markdown",
      "source": "### day_visit and day_visit vs page_views"
    },
    {
      "metadata": {
        "trusted": true,
        "_uuid": "d8837e0344a1ca3d3e347d827b30ebf1a3210b69"
      },
      "cell_type": "code",
      "source": "f, axes = plt.subplots(1,2, figsize=(15,5))\nsns.countplot(navigation.day_visit, ax=axes[0])\nsns.barplot(navigation.day_visit, navigation.page_views, ax=axes[1])",
      "execution_count": null,
      "outputs": []
    },
    {
      "metadata": {
        "_uuid": "820cac2b241fb037a6a3655e42b5be69ff09f75d"
      },
      "cell_type": "markdown",
      "source": "### month_visit and month_visit vs page_views"
    },
    {
      "metadata": {
        "trusted": true,
        "_uuid": "84d26fc85a998934bbeec89f795ebc89564f6eb3"
      },
      "cell_type": "code",
      "source": "f, axes = plt.subplots(1,2, figsize=(15,5))\nsns.countplot(navigation.month_visit, ax=axes[0])\nsns.barplot(navigation.month_visit, navigation.page_views, ax=axes[1])",
      "execution_count": null,
      "outputs": []
    },
    {
      "metadata": {
        "_uuid": "f62ba151734d8d91564ff8a12712ce50ac6d6c75"
      },
      "cell_type": "markdown",
      "source": "### website_version_zone_number and website_version_zone_number vs page_views"
    },
    {
      "metadata": {
        "trusted": true,
        "_uuid": "cdf11487807e0e686d5232798703f537c107eee1"
      },
      "cell_type": "code",
      "source": "f, axes = plt.subplots(1,2, figsize=(15,5))\nsns.countplot(navigation.website_version_zone_number, ax=axes[0])\nsns.barplot(navigation.website_version_zone_number, navigation.page_views, ax=axes[1])",
      "execution_count": null,
      "outputs": []
    },
    {
      "metadata": {
        "_uuid": "1ce19c0f3225b7c99ba7af58dfb4d262f577901e"
      },
      "cell_type": "markdown",
      "source": "### website_version_country_number and website_version_country_number vs page_views"
    },
    {
      "metadata": {
        "trusted": true,
        "_uuid": "40c008a0fd84c2b44371bfb07926b7cde8b7c0ce"
      },
      "cell_type": "code",
      "source": "f, axes = plt.subplots(1,2, figsize=(15,5))\nsns.countplot(navigation.website_version_country_number, ax=axes[0])\nsns.barplot(navigation.website_version_country_number, navigation.page_views, ax=axes[1])",
      "execution_count": null,
      "outputs": []
    }
  ],
  "metadata": {
    "kernelspec": {
      "display_name": "Python 3",
      "language": "python",
      "name": "python3"
    },
    "language_info": {
      "name": "python",
      "version": "3.6.6",
      "mimetype": "text/x-python",
      "codemirror_mode": {
        "name": "ipython",
        "version": 3
      },
      "pygments_lexer": "ipython3",
      "nbconvert_exporter": "python",
      "file_extension": ".py"
    }
  },
  "nbformat": 4,
  "nbformat_minor": 1
}