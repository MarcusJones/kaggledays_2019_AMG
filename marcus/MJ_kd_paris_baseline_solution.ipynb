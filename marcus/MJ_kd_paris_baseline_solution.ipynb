{
  "cells": [
    {
      "metadata": {
        "_uuid": "8f2839f25d086af736a60e9eeb907d3b93b6e0e5",
        "_cell_guid": "b1076dfc-b9ad-4769-8c92-a6c4dae69d19",
        "trusted": true
      },
      "cell_type": "code",
      "source": "import numpy as np # linear algebra\nimport pandas as pd # data processing, CSV file I/O (e.g. pd.read_csv)\nimport os\nimport warnings\n\nfrom fancyimpute import SimpleFill\n\nfrom sklearn.pipeline import make_pipeline, make_union\nfrom sklearn.feature_extraction.text import TfidfVectorizer, CountVectorizer\nfrom sklearn.preprocessing import LabelEncoder, OneHotEncoder, StandardScaler\nfrom sklearn.decomposition import PCA, LatentDirichletAllocation\nfrom sklearn.model_selection import GridSearchCV\nfrom sklearn.base import BaseEstimator, TransformerMixin\nfrom sklearn.ensemble import RandomForestRegressor\nfrom sklearn.feature_selection import SelectFromModel\nfrom sklearn.metrics import mean_squared_error\nfrom sklearn.tree import DecisionTreeRegressor\n\nwarnings.simplefilter(action='ignore', category=FutureWarning)",
      "execution_count": null,
      "outputs": []
    },
    {
      "metadata": {
        "_cell_guid": "79c7e3d0-c299-4dcb-8224-4455121ee9b0",
        "_uuid": "d629ff2d2480ee46fbb7e2d37f6b5fab8052498a",
        "trusted": true
      },
      "cell_type": "code",
      "source": "#product data\ntrain = pd.read_csv('../input/train.csv')\ntest = pd.read_csv('../input/test.csv')\n\n#sales, exchange rates, social network data\nsales = pd.read_csv('../input/sales.csv')\n\n#website navigation data\nnavigation = pd.read_csv('../input/navigation.csv')\n\n#product images vectorized with ResNet50\nvimages = pd.read_csv('../input/vimages.csv')",
      "execution_count": null,
      "outputs": []
    },
    {
      "metadata": {
        "trusted": true,
        "_uuid": "3c2242cb5ca18f9be44f8a5b367ffd8b65bef2cd"
      },
      "cell_type": "code",
      "source": "sales_float_columns = sales.dtypes[sales.dtypes == 'float64'].index.tolist()\nsales.loc[:,sales_float_columns] = SimpleFill(fill_method='random').fit_transform(sales.loc[:,sales_float_columns])",
      "execution_count": null,
      "outputs": []
    },
    {
      "metadata": {
        "trusted": true,
        "_uuid": "9dd6a7ee61107ec4d1ea42f20353b968684d9525"
      },
      "cell_type": "code",
      "source": "navigation.loc[navigation.website_version_zone_number.isna(), 'website_version_zone_number'] = 'unknown'\nnavigation.loc[navigation.website_version_country_number.isna(), 'website_version_country_number'] = 'unknown'",
      "execution_count": null,
      "outputs": []
    },
    {
      "metadata": {
        "trusted": true,
        "_uuid": "f6691458a8e7a2b3aa9e4afe30130790850900e7"
      },
      "cell_type": "code",
      "source": "train.loc[train.color.isna(), 'color'] = 'unknown'\ntest.loc[test.color.isna(), 'color'] = 'unknown'",
      "execution_count": null,
      "outputs": []
    },
    {
      "metadata": {
        "_uuid": "bda1637e7052353ab9acad765f0e870f8078b066"
      },
      "cell_type": "markdown",
      "source": "# Data preparation"
    },
    {
      "metadata": {
        "trusted": true,
        "_uuid": "66ca5a8fc9b5449d4417a85d5b13e71aaf85b924"
      },
      "cell_type": "code",
      "source": "currency_and_social_columns = sales.columns[9:].tolist()",
      "execution_count": null,
      "outputs": []
    },
    {
      "metadata": {
        "trusted": true,
        "_uuid": "3037dd2f0cf7ecd05b0b0e60648464573e18c277"
      },
      "cell_type": "code",
      "source": "first_day = sales.loc[sales.Date == 'Day_1',:]",
      "execution_count": null,
      "outputs": []
    },
    {
      "metadata": {
        "trusted": true,
        "_uuid": "8f75e5524d09fe87b0a5c4db1576d75e7b26e4bf"
      },
      "cell_type": "code",
      "source": "all_currency_and_social = sales.groupby('sku_hash').mean()[currency_and_social_columns]\nfirst_day_currency_and_social = first_day.groupby('sku_hash').mean()[currency_and_social_columns]\nfirst_day_currency_and_social.columns = ['first_day_' + col for col in first_day_currency_and_social.columns]",
      "execution_count": null,
      "outputs": []
    },
    {
      "metadata": {
        "trusted": true,
        "_uuid": "1b4a7b1f23753fef7f6f08f225406933b8dd0cc8"
      },
      "cell_type": "code",
      "source": "all_sales = sales.groupby('sku_hash').sum()['sales_quantity']\nall_sales = pd.DataFrame(all_sales)\nfirst_day_sales = first_day.groupby(['sku_hash', 'day_transaction_date', 'Month_transaction']).sum()['sales_quantity']\nfirst_day_sales = pd.DataFrame(first_day_sales)\nfirst_day_sales.columns = ['first_day_sales']\nfirst_day_sales.reset_index(inplace=True)\nfirst_day_sales.set_index('sku_hash', inplace=True)",
      "execution_count": null,
      "outputs": []
    },
    {
      "metadata": {
        "trusted": true,
        "_uuid": "d8f2ab70598dbb879912b15f29b5ac259d377f29"
      },
      "cell_type": "code",
      "source": "sales_data = pd.merge(all_sales, first_day_sales, left_index=True, right_index=True)\nsales_data = pd.merge(sales_data, all_currency_and_social, left_index=True, right_index=True)\nsales_data = pd.merge(sales_data, first_day_currency_and_social, left_index=True, right_index=True)",
      "execution_count": null,
      "outputs": []
    },
    {
      "metadata": {
        "trusted": true,
        "_uuid": "6ffaf9b7a26c4b59cce5cf0b2558c1af1dc8b40e"
      },
      "cell_type": "code",
      "source": "monthDict = {1:'Jan', 2:'Feb', 3:'Mar', 4:'Apr', 5:'May', 6:'Jun', 7:'Jul', 8:'Aug', 9:'Sep', 10:'Oct', 11:'Nov', 12:'Dec'}\nsales_data.Month_transaction = sales_data.Month_transaction.astype('object').map(monthDict)",
      "execution_count": null,
      "outputs": []
    },
    {
      "metadata": {
        "trusted": true,
        "_uuid": "47555ae4986bb0076458b16ba79c128e185aaeb1"
      },
      "cell_type": "code",
      "source": "sales_data.head()",
      "execution_count": null,
      "outputs": []
    },
    {
      "metadata": {
        "trusted": true,
        "_uuid": "c079fa8c7e5fbf025992978fda132052d7b2c86b"
      },
      "cell_type": "code",
      "source": "first_day_navigation = navigation.loc[navigation.Date == 'Day 1',:]\nfirst_day_views = first_day_navigation.groupby('sku_hash').sum()[['page_views', 'addtocart']]\nfirst_day_views.columns = ['first_day_page_views', 'first_day_addtocart']\nviews = navigation.groupby('sku_hash').sum()[['page_views', 'addtocart']]\nnavigation_data = pd.merge(views, first_day_views, left_index=True, right_index=True)",
      "execution_count": null,
      "outputs": []
    },
    {
      "metadata": {
        "trusted": true,
        "_uuid": "e1e9390dd178b3027e67c6d014f06b4384ca7c4a"
      },
      "cell_type": "code",
      "source": "sales_data.sales_quantity = sales_data.sales_quantity.astype('float64')\nsales_data.first_day_sales = sales_data.first_day_sales.astype('float64')",
      "execution_count": null,
      "outputs": []
    },
    {
      "metadata": {
        "trusted": true,
        "_uuid": "8ac1d88343fc901fab020553bf35089283c86500"
      },
      "cell_type": "code",
      "source": "sales_data['sales_quantity_log'] = (sales_data.sales_quantity + 1).apply(np.log)\nsales_data['first_day_sales_log'] = (sales_data.first_day_sales + 1).apply(np.log)",
      "execution_count": null,
      "outputs": []
    },
    {
      "metadata": {
        "trusted": true,
        "_uuid": "c3a8340e1694ce077c8e9d28dd46ca451f0e0ea9"
      },
      "cell_type": "code",
      "source": "train_data = pd.merge(train, sales_data, left_on='sku_hash', right_index=True)\ntrain_data = pd.merge(train_data, navigation_data, how='left', left_on='sku_hash', right_index=True)\ntrain_data = pd.merge(train_data, vimages, left_on='sku_hash', right_on='sku_hash')",
      "execution_count": null,
      "outputs": []
    },
    {
      "metadata": {
        "trusted": true,
        "_uuid": "4a90d1563fb6bd221613c23ea1c499177f7fe8d1"
      },
      "cell_type": "code",
      "source": "test_data = pd.merge(test, sales_data, left_on='sku_hash', right_index=True)\ntest_data = pd.merge(test_data, navigation_data, how='left', left_on='sku_hash', right_index=True)\ntest_data = pd.merge(test_data, vimages, left_on='sku_hash', right_on='sku_hash')",
      "execution_count": null,
      "outputs": []
    },
    {
      "metadata": {
        "trusted": true,
        "_uuid": "f4f73442ff66d44fd5a27b1e9c85b97933f96465"
      },
      "cell_type": "code",
      "source": "train_data[navigation_data.columns] = train_data[navigation_data.columns].fillna(0)\ntest_data[navigation_data.columns] = test_data[navigation_data.columns].fillna(0)",
      "execution_count": null,
      "outputs": []
    },
    {
      "metadata": {
        "_uuid": "e92ecde8be29c103afbef5861a6a5b55751697ec"
      },
      "cell_type": "markdown",
      "source": "# Modeling\n## utils\nfrom https://github.com/pjankiewicz/PandasSelector"
    },
    {
      "metadata": {
        "trusted": true,
        "_uuid": "5aa824605618927c2bff72a54db96f7a66c572d7"
      },
      "cell_type": "code",
      "source": "\n\nclass PandasSelector(BaseEstimator, TransformerMixin):\n    def __init__(self, columns=None, dtype=None, inverse=False,\n                 return_vector=True):\n        self.dtype = dtype\n        self.columns = columns\n        self.inverse = inverse\n        self.return_vector = return_vector\n\n        if isinstance(self.columns, str):\n            self.columns = [self.columns]\n\n    def check_condition(self, x, col):\n        cond = (self.dtype is not None and x[col].dtype == self.dtype) or \\\n               (self.columns is not None and col in self.columns)\n        return self.inverse ^ cond\n\n    def fit(self, x, y=None):\n        return self\n\n    def _check_if_all_columns_present(self, x):\n        if not self.inverse and self.columns is not None:\n            missing_columns = set(self.columns) - set(x.columns)\n            if len(missing_columns) > 0:\n                missing_columns_ = ','.join(col for col in missing_columns)\n                raise KeyError('Keys are missing in the record: %s' %\n                               missing_columns_)\n\n    def transform(self, x):\n        # check if x is a pandas DataFrame\n        if not isinstance(x, pd.DataFrame):\n            raise KeyError('Input is not a pandas DataFrame')\n\n        selected_cols = []\n        for col in x.columns:\n            if self.check_condition(x, col):\n                selected_cols.append(col)\n\n        # if the column was selected and inversed = False make sure the column\n        # is in the DataFrame\n        self._check_if_all_columns_present(x)\n\n        # if only 1 column is returned return a vector instead of a dataframe\n        if len(selected_cols) == 1 and self.return_vector:\n            return list(x[selected_cols[0]])\n        else:\n            return x[selected_cols]",
      "execution_count": null,
      "outputs": []
    },
    {
      "metadata": {
        "_uuid": "107def94e3025396616fa08411e8260d6e7b4fb6"
      },
      "cell_type": "markdown",
      "source": "## separate models for each prediction month"
    },
    {
      "metadata": {
        "trusted": true,
        "_uuid": "816b8f0cb0fbadf9328c28df8795e3ac1d69b582"
      },
      "cell_type": "code",
      "source": "train_data1 = train_data.loc[train_data.month == 1, :].copy()\ntrain_data1.drop(['month', 'sku_hash', 'ID'], axis=1, inplace=True)\n\nX_test1 = test_data.loc[test_data.month == 1, :].copy()\nX_test1.drop(['month', 'sku_hash'], axis=1, inplace=True)\nX_test1.set_index('ID', inplace=True)\n\ny_train1 = (train_data1.target + 1).apply(np.log)\nX_train1 = train_data1.drop('target', axis=1)\n\ntrain_data2 = train_data.loc[train_data.month == 2, :].copy()\ntrain_data2.drop(['month', 'sku_hash', 'ID'], axis=1, inplace=True)\n\nX_test2 = test_data.loc[test_data.month == 2, :].copy()\nX_test2.drop(['month', 'sku_hash'], axis=1, inplace=True)\nX_test2.set_index('ID', inplace=True)\n\ny_train2 = (train_data2.target + 1).apply(np.log)\nX_train2 = train_data2.drop('target', axis=1)\n\n\ntrain_data3 = train_data.loc[train_data.month == 3, :].copy()\ntrain_data3.drop(['month', 'sku_hash', 'ID'], axis=1, inplace=True)\n\nX_test3 = test_data.loc[test_data.month == 3, :].copy()\nX_test3.drop(['month', 'sku_hash'], axis=1, inplace=True)\nX_test3.set_index('ID', inplace=True)\n\ny_train3 = (train_data3.target + 1).apply(np.log)\nX_train3 = train_data3.drop('target', axis=1)",
      "execution_count": null,
      "outputs": []
    },
    {
      "metadata": {
        "trusted": true,
        "_uuid": "614637c1e10a48604fedb614c472815b08954642"
      },
      "cell_type": "code",
      "source": "images_cols = vimages.columns[1:].tolist()\nfloat_cols = X_train1.dtypes[X_train1.dtypes == 'float64'].index.tolist()\nfloat_cols = list(set(float_cols) - set(images_cols))\nfloat_cols.remove('sales_quantity_log')\nfloat_cols.remove('first_day_sales_log')\nfloat_cols.remove('sales_quantity')\nfloat_cols.remove('first_day_sales')",
      "execution_count": null,
      "outputs": []
    },
    {
      "metadata": {
        "trusted": true,
        "_uuid": "6f9e5a39469aec53f970042015788144ab4432d8"
      },
      "cell_type": "code",
      "source": "categorical_cols = X_train1.dtypes[X_train1.dtypes == 'object'].index.tolist()\ncategorical_cols.remove('en_US_description')\ncategorical_cols.remove('color')",
      "execution_count": null,
      "outputs": []
    },
    {
      "metadata": {
        "trusted": true,
        "_uuid": "66bd00938a631cb806de3f1ade45ddd25a0119ec"
      },
      "cell_type": "code",
      "source": "model = make_pipeline(\n    make_union(\n        make_pipeline(PandasSelector(columns='en_US_description'), \n                      CountVectorizer(stop_words='english'),\n                      LatentDirichletAllocation(n_components=10)),\n        make_pipeline(PandasSelector(columns='color'), \n                      CountVectorizer()\n                     ),\n        make_pipeline(PandasSelector(columns=images_cols), \n                      PCA(10)),\n        make_pipeline(PandasSelector(columns=float_cols),\n                      PCA(10)),\n        make_pipeline(PandasSelector(columns=['sales_quantity_log', \n                                              'first_day_sales_log', \n                                              'sales_quantity', \n                                              'first_day_sales'])),\n        make_pipeline(PandasSelector(columns=categorical_cols), \n                      OneHotEncoder(handle_unknown='ignore'),\n                      LatentDirichletAllocation(n_components=10))\n    ),\n    SelectFromModel(RandomForestRegressor(n_estimators=100)),\n    DecisionTreeRegressor()\n)",
      "execution_count": null,
      "outputs": []
    },
    {
      "metadata": {
        "trusted": true,
        "_uuid": "51417d3cce26142e3d21df7d35d75d1130a6acf1"
      },
      "cell_type": "code",
      "source": "params = {'decisiontreeregressor__min_samples_split': [40, 60, 80],\n          'decisiontreeregressor__max_depth': [4, 6, 8]}",
      "execution_count": null,
      "outputs": []
    },
    {
      "metadata": {
        "trusted": true,
        "_uuid": "3a967109b4bbd8c56f29df0a2bc3904f48157412"
      },
      "cell_type": "code",
      "source": "gs = GridSearchCV(model, param_grid=params, cv=4, verbose=3, n_jobs=-1)\n\ngs.fit(X_train1, y_train1)\ny_test1 = gs.predict(X_test1)\n\nprint('metric cv: ', np.round(np.sqrt(gs.best_score_),4))\nprint('metric train: ', np.round(np.sqrt(mean_squared_error(y_train1, gs.predict(X_train1))),4))\nprint('params: ', gs.best_params_)",
      "execution_count": null,
      "outputs": []
    },
    {
      "metadata": {
        "trusted": true,
        "_uuid": "c6acc1649b67dc5bd2b81731f2e15ed835574e00"
      },
      "cell_type": "code",
      "source": "gs.fit(X_train2, y_train2)\ny_test2 = gs.predict(X_test2)\n\nprint('metric cv: ', np.round(np.sqrt(gs.best_score_),4))\nprint('metric train: ', np.round(np.sqrt(mean_squared_error(y_train2, gs.predict(X_train2))),4))\nprint('params: ', gs.best_params_)",
      "execution_count": null,
      "outputs": []
    },
    {
      "metadata": {
        "trusted": true,
        "_uuid": "1741c7d10249ee022db5dd345b65f9ac3c06ab62"
      },
      "cell_type": "code",
      "source": "gs.fit(X_train3, y_train3)\ny_test3 = gs.predict(X_test3)\n\nprint('metric cv: ', np.round(np.sqrt(gs.best_score_),4))\nprint('metric train: ', np.round(np.sqrt(mean_squared_error(y_train3, gs.predict(X_train3))),4))\nprint('params: ', gs.best_params_)",
      "execution_count": null,
      "outputs": []
    },
    {
      "metadata": {
        "trusted": true,
        "_uuid": "4d9d4dc8361c4dc285d2283bd58cd7465a0b0e61"
      },
      "cell_type": "code",
      "source": "y_test1 = pd.Series(y_test1)\ny_test1 = (y_test1).apply(np.exp)  - 1\ny_test1.index = X_test1.index\n\ny_test2 = pd.Series(y_test2)\ny_test2 = (y_test2).apply(np.exp)  - 1\ny_test2.index = X_test2.index\n\ny_test3 = pd.Series(y_test3)\ny_test3 = (y_test3).apply(np.exp) - 1\ny_test3.index = X_test3.index\n\nsubmission = pd.DataFrame(pd.concat([y_test1, y_test2, y_test3]))\nsubmission.columns = ['target']",
      "execution_count": null,
      "outputs": []
    },
    {
      "metadata": {
        "trusted": true,
        "_uuid": "e886a8013dcef7729789dffdbe5bb32270934c5b"
      },
      "cell_type": "code",
      "source": "submission.to_csv('submission.csv')",
      "execution_count": null,
      "outputs": []
    },
    {
      "metadata": {
        "trusted": true,
        "_uuid": "64c46d264f4c14828e399da1e5c01ead65ee1ec6"
      },
      "cell_type": "code",
      "source": "",
      "execution_count": null,
      "outputs": []
    }
  ],
  "metadata": {
    "kernelspec": {
      "display_name": "Python 3",
      "language": "python",
      "name": "python3"
    },
    "language_info": {
      "name": "python",
      "version": "3.6.6",
      "mimetype": "text/x-python",
      "codemirror_mode": {
        "name": "ipython",
        "version": 3
      },
      "pygments_lexer": "ipython3",
      "nbconvert_exporter": "python",
      "file_extension": ".py"
    }
  },
  "nbformat": 4,
  "nbformat_minor": 1
}